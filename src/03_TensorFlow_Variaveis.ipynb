{
  "nbformat": 4,
  "nbformat_minor": 0,
  "metadata": {
    "colab": {
      "name": "03_TensorFlow_Variaveis.ipynb",
      "provenance": [],
      "authorship_tag": "ABX9TyO584MPyCBFm5cCxeF6hU62",
      "include_colab_link": true
    },
    "kernelspec": {
      "name": "python3",
      "display_name": "Python 3"
    }
  },
  "cells": [
    {
      "cell_type": "markdown",
      "metadata": {
        "id": "view-in-github",
        "colab_type": "text"
      },
      "source": [
        "<a href=\"https://colab.research.google.com/github/ralsouza/TensorFlow/blob/master/src/03_TensorFlow_Variaveis.ipynb\" target=\"_parent\"><img src=\"https://colab.research.google.com/assets/colab-badge.svg\" alt=\"Open In Colab\"/></a>"
      ]
    },
    {
      "cell_type": "markdown",
      "metadata": {
        "id": "YwQy3pk1GupY",
        "colab_type": "text"
      },
      "source": [
        "# Variáveis\n",
        "O TensorFlow também possui nodes variáveis que podem conter dados variáveis. Elas são usados principalmente para manter e atualizar parâmetros de um modelo de treinamento.\n",
        "\n",
        "Variáveis são buffers na memória contendo tensores. Elas devem ser inicializados e podem ser salvas durante e após o treinamento. Você pode restaurar os valores salvos posteriormente para exercitar ou analisar o modelo.\n",
        "\n",
        "Uma diferença importante a notar entre uma constante e uma variável é:\n",
        "O valor de uma constante é armazenado no grafo e seu valor é replicado onde o grafo é carregado. Uma variável é armazenada separadamente e pode estar em um servidor de parâmetros."
      ]
    },
    {
      "cell_type": "code",
      "metadata": {
        "id": "r8NLb7ky-d0d",
        "colab_type": "code",
        "colab": {}
      },
      "source": [
        "%tensorflow_version 1.x\n",
        "import tensorflow as tf"
      ],
      "execution_count": 0,
      "outputs": []
    },
    {
      "cell_type": "code",
      "metadata": {
        "id": "F7HdM1__HjJQ",
        "colab_type": "code",
        "colab": {
          "base_uri": "https://localhost:8080/",
          "height": 161
        },
        "outputId": "8f9312cf-e418-4605-f145-c10856187a52"
      },
      "source": [
        "# Criar uma variável preenchida com zeros com dimensão 2x2\n",
        "node = tf.Variable(tf.zeros([2,2]))\n",
        "\n",
        "# Executar o grafo\n",
        "with tf.Session() as sess:\n",
        "\n",
        "  # Inicializar variável\n",
        "  sess.run(tf.global_variables_initializer())\n",
        "\n",
        "  # Checar o node\n",
        "  print('\\nTensor Original:\\n',sess.run(node))\n",
        "\n",
        "  # Adição element-wise no tensor\n",
        "  node = node.assign(node + tf.ones([2,2]))\n",
        "\n",
        "  # Reavaliar o node\n",
        "  print('\\nTensor depois da adição:\\n',sess.run(node))"
      ],
      "execution_count": 4,
      "outputs": [
        {
          "output_type": "stream",
          "text": [
            "\n",
            "Tensor Original:\n",
            " [[0. 0.]\n",
            " [0. 0.]]\n",
            "\n",
            "Tensor depois da adição:\n",
            " [[1. 1.]\n",
            " [1. 1.]]\n"
          ],
          "name": "stdout"
        }
      ]
    }
  ]
}