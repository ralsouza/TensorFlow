{
  "nbformat": 4,
  "nbformat_minor": 0,
  "metadata": {
    "colab": {
      "name": "04_TensorFlow_Placeholders.ipynb",
      "provenance": [],
      "collapsed_sections": [],
      "authorship_tag": "ABX9TyOMzBOoY4rAJ9DSDqcdM6GU",
      "include_colab_link": true
    },
    "kernelspec": {
      "name": "python3",
      "display_name": "Python 3"
    }
  },
  "cells": [
    {
      "cell_type": "markdown",
      "metadata": {
        "id": "view-in-github",
        "colab_type": "text"
      },
      "source": [
        "<a href=\"https://colab.research.google.com/github/ralsouza/TensorFlow/blob/master/src/04_TensorFlow_Placeholders.ipynb\" target=\"_parent\"><img src=\"https://colab.research.google.com/assets/colab-badge.svg\" alt=\"Open In Colab\"/></a>"
      ]
    },
    {
      "cell_type": "markdown",
      "metadata": {
        "id": "voCZLAUXKstc",
        "colab_type": "text"
      },
      "source": [
        "# Placeholders\n",
        "Quando não temos os valores definidos previamente para os tensores, usamos os placeholders para reservar estes objetos antes de executar uma sessão. \n",
        "\n",
        "Uma sessão só pode ser aberta e ser executada se houver um tensor criado e então ao executar a operação devemos usar o comando `feed_dict`\n",
        "para preencher os valores nos placeholders reservados.\n",
        "\n",
        "Esta automação é interessante, pois assim podemos trazer dados de diversas fontes de dados para usar no fluxo de cálculos."
      ]
    },
    {
      "cell_type": "code",
      "metadata": {
        "id": "dJWyVy9fKhEm",
        "colab_type": "code",
        "colab": {
          "base_uri": "https://localhost:8080/",
          "height": 35
        },
        "outputId": "faad60a1-8877-4b56-e67f-e2111b631175"
      },
      "source": [
        "%tensorflow_version 1.x\n",
        "import tensorflow as tf"
      ],
      "execution_count": 1,
      "outputs": [
        {
          "output_type": "stream",
          "text": [
            "TensorFlow 1.x selected.\n"
          ],
          "name": "stdout"
        }
      ]
    },
    {
      "cell_type": "code",
      "metadata": {
        "id": "ZGw8jGWNKseU",
        "colab_type": "code",
        "colab": {
          "base_uri": "https://localhost:8080/",
          "height": 71
        },
        "outputId": "40629248-58b1-4b3f-ba6a-51a6deefe0ac"
      },
      "source": [
        "# Criação dos grafos\n",
        "a = tf.placeholder(tf.int32,shape=(3,1))\n",
        "b = tf.placeholder(tf.int32,shape=(1,3))\n",
        "c = tf.matmul(a,b)\n",
        "\n",
        "# Executar grafo\n",
        "with tf.Session() as sess:\n",
        "  print(sess.run(c,feed_dict={a:[[3],[2],[1]],b:[[1,2,3]]}))"
      ],
      "execution_count": 4,
      "outputs": [
        {
          "output_type": "stream",
          "text": [
            "[[3 6 9]\n",
            " [2 4 6]\n",
            " [1 2 3]]\n"
          ],
          "name": "stdout"
        }
      ]
    }
  ]
}