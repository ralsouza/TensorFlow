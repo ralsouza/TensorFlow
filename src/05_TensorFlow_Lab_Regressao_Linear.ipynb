{
  "nbformat": 4,
  "nbformat_minor": 0,
  "metadata": {
    "colab": {
      "name": "05_TensorFlow_Lab_Regressao_Linear.ipynb",
      "provenance": [],
      "collapsed_sections": [],
      "authorship_tag": "ABX9TyPwIYGhWU3tILBRCE3jcd22",
      "include_colab_link": true
    },
    "kernelspec": {
      "name": "python3",
      "display_name": "Python 3"
    }
  },
  "cells": [
    {
      "cell_type": "markdown",
      "metadata": {
        "id": "view-in-github",
        "colab_type": "text"
      },
      "source": [
        "<a href=\"https://colab.research.google.com/github/ralsouza/TensorFlow/blob/master/src/05_TensorFlow_Lab_Regressao_Linear.ipynb\" target=\"_parent\"><img src=\"https://colab.research.google.com/assets/colab-badge.svg\" alt=\"Open In Colab\"/></a>"
      ]
    },
    {
      "cell_type": "markdown",
      "metadata": {
        "id": "BMLy3Jtf0szq",
        "colab_type": "text"
      },
      "source": [
        "# Lab 4 - Construindo um Modelo de Regressão Linear com TensorFlow\n",
        "Use como referência o Deep Learning Book: http://www.deeplearningbook.com.br/"
      ]
    },
    {
      "cell_type": "code",
      "metadata": {
        "id": "dklu5a1bz2Xa",
        "colab_type": "code",
        "colab": {
          "base_uri": "https://localhost:8080/",
          "height": 35
        },
        "outputId": "a3701504-d0ea-414a-93a5-bf3fb0df70d5"
      },
      "source": [
        "# Imports\n",
        "%tensorflow_version 1.x\n",
        "import tensorflow as tf\n",
        "import numpy as np\n",
        "import matplotlib.pyplot as plt\n",
        "%matplotlib inline"
      ],
      "execution_count": 1,
      "outputs": [
        {
          "output_type": "stream",
          "text": [
            "TensorFlow 1.x selected.\n"
          ],
          "name": "stdout"
        }
      ]
    },
    {
      "cell_type": "markdown",
      "metadata": {
        "id": "aeq6Rlfb1BIn",
        "colab_type": "text"
      },
      "source": [
        "# Definição dos hyperparâmetros do modelo\n",
        "Hyperparâmetros são usados para configurar o modelo, para que o modelo possa atingir um maior grau de precisão."
      ]
    },
    {
      "cell_type": "code",
      "metadata": {
        "id": "kbK6ZMwT1JJ4",
        "colab_type": "code",
        "colab": {}
      },
      "source": [
        "# Hyperparâmetros do modelo\n",
        "learning_rate = 0.01\n",
        "training_epochs = 2000\n",
        "display_step = 200"
      ],
      "execution_count": 0,
      "outputs": []
    },
    {
      "cell_type": "markdown",
      "metadata": {
        "id": "jnfosXF21oh3",
        "colab_type": "text"
      },
      "source": [
        "# Definindo os datasets de treino e de teste\n",
        "\n",
        "### Considere X como o tamanho de uma casa e y o preço de uma casa"
      ]
    },
    {
      "cell_type": "code",
      "metadata": {
        "id": "IDmKNmEh1zOr",
        "colab_type": "code",
        "colab": {}
      },
      "source": [
        "# Dataset de treino\n",
        "train_X = np.asarray([3.3,4.4,5.5,6.71,6.93,4.168,9.779,6.182,7.59,2.167,7.042,10.791,5.313,7.997,5.654,9.27,3.1])\n",
        "train_y = np.asarray([1.7,2.76,2.09,3.19,1.694,1.573,3.366,2.596,2.53,1.221,2.827,3.465,1.65,2.904,2.42,2.94,1.3])\n",
        "n_samples = train_X.shape[0]\n",
        " \n",
        "# Dataset de teste\n",
        "test_X = np.asarray([6.83, 4.668, 8.9, 7.91, 5.7, 8.7, 3.1, 2.1])\n",
        "test_y = np.asarray([1.84, 2.273, 3.2, 2.831, 2.92, 3.24, 1.35, 1.03])"
      ],
      "execution_count": 0,
      "outputs": []
    },
    {
      "cell_type": "markdown",
      "metadata": {
        "id": "tsYIYq9P16vO",
        "colab_type": "text"
      },
      "source": [
        "# Placeholders e variáveis"
      ]
    },
    {
      "cell_type": "code",
      "metadata": {
        "id": "Izx1VlWg17zD",
        "colab_type": "code",
        "colab": {}
      },
      "source": [
        "# Placeholders para as variáveis preditoras (x) e para  variável target (y)\n",
        "X = tf.placeholder(tf.float32)\n",
        "y = tf.placeholder(tf.float32)\n",
        " \n",
        "# Pesos e bias do modelo\n",
        "W = tf.Variable(np.random.randn(), name=\"weight\")\n",
        "b = tf.Variable(np.random.randn(), name=\"bias\")"
      ],
      "execution_count": 0,
      "outputs": []
    },
    {
      "cell_type": "markdown",
      "metadata": {
        "id": "ozoIj2lq2BAg",
        "colab_type": "text"
      },
      "source": [
        "# Construindo o modelo"
      ]
    },
    {
      "cell_type": "code",
      "metadata": {
        "id": "wnzZH5zp2CYm",
        "colab_type": "code",
        "colab": {}
      },
      "source": [
        "# Construindo o modelo linear\n",
        "# Fórmula do modelo linear: y = W*X + b\n",
        "linear_model = W*X + b\n",
        " \n",
        "# Mean squared error (erro quadrado médio)\n",
        "cost = tf.reduce_sum(tf.square(linear_model - y)) / (2*n_samples)\n",
        " \n",
        "# Otimização com Gradient descent\n",
        "optimizer = tf.train.GradientDescentOptimizer(learning_rate).minimize(cost)"
      ],
      "execution_count": 0,
      "outputs": []
    },
    {
      "cell_type": "markdown",
      "metadata": {
        "id": "5uPHeXES2Ilx",
        "colab_type": "text"
      },
      "source": [
        "# Executando o grafo computacional, treinando e testando o modelo"
      ]
    },
    {
      "cell_type": "code",
      "metadata": {
        "id": "bOYb-uwG2KNh",
        "colab_type": "code",
        "colab": {
          "base_uri": "https://localhost:8080/",
          "height": 801
        },
        "outputId": "346c12a7-8ed2-4731-f862-d0fb94280ed2"
      },
      "source": [
        "# Definindo a inicialização das variáveis\n",
        "init = tf.global_variables_initializer()\n",
        " \n",
        "# Iniciando a sessão\n",
        "with tf.Session() as sess:\n",
        "    # Iniciando as variáveis\n",
        "    sess.run(init)\n",
        " \n",
        "    # Treinamento do modelo\n",
        "    for epoch in range(training_epochs):\n",
        " \n",
        "        # Otimização com Gradient Descent\n",
        "        sess.run(optimizer, feed_dict={X: train_X, y: train_y})\n",
        "         \n",
        "        # Display de cada epoch\n",
        "        if (epoch+1) % display_step == 0:\n",
        "            c = sess.run(cost, feed_dict={X: train_X, y: train_y})\n",
        "            print(\"Epoch:{0:6} \\t Cost:{1:10.4} \\t W:{2:6.4} \\t b:{3:6.4}\".format(epoch+1, c, sess.run(W), sess.run(b)))\n",
        "             \n",
        "    # Imprimindo os parâmetros finais do modelo\n",
        "    print(\"\\nOtimização Concluída!\")\n",
        "    training_cost = sess.run(cost, feed_dict={X: train_X, y: train_y})\n",
        "    print(\"Custo Final de Treinamento:\", training_cost, \" - W Final:\", sess.run(W), \" - b Final:\", sess.run(b), '\\n')\n",
        "     \n",
        "    # Visualizando o resultado\n",
        "    plt.plot(train_X, train_y, 'ro', label='Dados Originais')\n",
        "    plt.plot(train_X, sess.run(W) * train_X + sess.run(b), label='Linha de Regressão')\n",
        "    plt.legend()\n",
        "    plt.show()\n",
        " \n",
        "    # Testando o modelo\n",
        "    testing_cost = sess.run(tf.reduce_sum(tf.square(linear_model - y)) / (2 * test_X.shape[0]), \n",
        "                            feed_dict={X: test_X, y: test_y})\n",
        "     \n",
        "    print(\"Custo Final em Teste:\", testing_cost)\n",
        "    print(\"Diferença Média Quadrada Absoluta:\", abs(training_cost - testing_cost))\n",
        " \n",
        "    # Display em Teste\n",
        "    plt.plot(test_X, test_y, 'bo', label='Dados de Teste')\n",
        "    plt.plot(train_X, sess.run(W) * train_X + sess.run(b), label='Linha de Regressão')\n",
        "    plt.legend()\n",
        "    plt.show()\n",
        "    \n",
        "sess.close()"
      ],
      "execution_count": 9,
      "outputs": [
        {
          "output_type": "stream",
          "text": [
            "Epoch:   200 \t Cost:    0.1111 \t W:0.3564 \t b:0.05602\n",
            "Epoch:   400 \t Cost:   0.09794 \t W:0.3338 \t b:0.2162\n",
            "Epoch:   600 \t Cost:   0.08985 \t W:0.3161 \t b:0.3419\n",
            "Epoch:   800 \t Cost:   0.08488 \t W:0.3022 \t b:0.4404\n",
            "Epoch:  1000 \t Cost:   0.08182 \t W:0.2913 \t b:0.5177\n",
            "Epoch:  1200 \t Cost:   0.07994 \t W:0.2827 \t b:0.5783\n",
            "Epoch:  1400 \t Cost:   0.07878 \t W: 0.276 \t b:0.6259\n",
            "Epoch:  1600 \t Cost:   0.07807 \t W:0.2708 \t b:0.6632\n",
            "Epoch:  1800 \t Cost:   0.07763 \t W:0.2666 \t b:0.6924\n",
            "Epoch:  2000 \t Cost:   0.07736 \t W:0.2634 \t b:0.7154\n",
            "\n",
            "Otimização Concluída!\n",
            "Custo Final de Treinamento: 0.07735985  - W Final: 0.26340505  - b Final: 0.7153563 \n",
            "\n"
          ],
          "name": "stdout"
        },
        {
          "output_type": "display_data",
          "data": {
            "image/png": "[encoded data removed]",
            "text/plain": [
              "<Figure size 432x288 with 1 Axes>"
            ]
          },
          "metadata": {
            "tags": []
          }
        },
        {
          "output_type": "stream",
          "text": [
            "Custo Final em Teste: 0.076375194\n",
            "Diferença Média Quadrada Absoluta: 0.0009846538\n"
          ],
          "name": "stdout"
        },
        {
          "output_type": "display_data",
          "data": {
            "image/png": "[encoded data removed]",
            "text/plain": [
              "<Figure size 432x288 with 1 Axes>"
            ]
          },
          "metadata": {
            "tags": []
          }
        }
      ]
    }
  ]
}